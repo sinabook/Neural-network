{
 "cells": [
  {
   "cell_type": "code",
   "execution_count": 20,
   "id": "99450f9e",
   "metadata": {
    "id": "99450f9e"
   },
   "outputs": [],
   "source": [
    "import numpy as np\n",
    "import pandas as pd"
   ]
  },
  {
   "attachments": {},
   "cell_type": "markdown",
   "id": "72faaed8",
   "metadata": {
    "id": "72faaed8"
   },
   "source": [
    "<h2 align=right style=\"line-height:200%;font-family:vazir;color:#0099cc\">\n",
    "\n",
    "</h2>\n",
    "\n",
    "\n",
    "\n",
    "<center>\n",
    "<div dir=rtl style=\"direction: rtl;line-height:200%;font-family:vazir;font-size:medium\">\n",
    "<font face=\"vazir\" size=3>\n",
    "    \n",
    "|ستون|توضیحات|\n",
    "|:------:|:---:|\n",
    "|<code>Pregnancies</code>|تعداد بارداری های فرد|\n",
    "|<code>Glucose</code>|سطح گلوکز خون (<code dir=ltr>mg/dL</code>)|\n",
    "|<code>BloodPressure</code>|فشار خون سیستولیک (<code>mmHg</code>)|\n",
    "|<code>SkinThickness</code>|ضخامت پوست (<code dir=ltr>mm</code>) |\n",
    "|<code>Insulin</code>|سطح انسولین خون (<code dir=ltr>μU/mL</code>) |\n",
    "|<code>BMI</code>|شاخص توده بدنی (<code dir=ltr>kg/m^2</code>) |\n",
    "|<code>DiabetesPedigreeFunction</code>|تابعی بیانگر سابقه‌ی خانوادگی دیابت|\n",
    "|<code>Age</code>|سن زن (سال) |\n",
    "|<code>Outcome</code>|عدم ابتلا (<code>0</code>) یا ابتلا (<code>1</code>) به دیابت|\n",
    "\n",
    "</font>\n",
    "</div>\n",
    "</center>"
   ]
  },
  {
   "cell_type": "code",
   "execution_count": 21,
   "id": "G0RGXL7GAdU-",
   "metadata": {
    "id": "G0RGXL7GAdU-"
   },
   "outputs": [
    {
     "name": "stdout",
     "output_type": "stream",
     "text": [
      "<class 'pandas.core.frame.DataFrame'>\n",
      "RangeIndex: 668 entries, 0 to 667\n",
      "Data columns (total 9 columns):\n",
      " #   Column                    Non-Null Count  Dtype  \n",
      "---  ------                    --------------  -----  \n",
      " 0   Pregnancies               668 non-null    int64  \n",
      " 1   Glucose                   668 non-null    int64  \n",
      " 2   BloodPressure             668 non-null    int64  \n",
      " 3   SkinThickness             668 non-null    int64  \n",
      " 4   Insulin                   668 non-null    int64  \n",
      " 5   BMI                       668 non-null    float64\n",
      " 6   DiabetesPedigreeFunction  668 non-null    float64\n",
      " 7   Age                       668 non-null    int64  \n",
      " 8   Outcome                   668 non-null    int64  \n",
      "dtypes: float64(2), int64(7)\n",
      "memory usage: 47.1 KB\n"
     ]
    }
   ],
   "source": [
    "train_data = pd.read_csv('./data/diabetes_train.csv')\n",
    "train_data.info()"
   ]
  },
  {
   "cell_type": "code",
   "execution_count": null,
   "id": "7dcb9e87",
   "metadata": {
    "id": "7dcb9e87"
   },
   "outputs": [
    {
     "name": "stdout",
     "output_type": "stream",
     "text": [
      "<class 'pandas.core.frame.DataFrame'>\n",
      "RangeIndex: 100 entries, 0 to 99\n",
      "Data columns (total 8 columns):\n",
      " #   Column                    Non-Null Count  Dtype  \n",
      "---  ------                    --------------  -----  \n",
      " 0   Pregnancies               100 non-null    int64  \n",
      " 1   Glucose                   100 non-null    int64  \n",
      " 2   BloodPressure             100 non-null    int64  \n",
      " 3   SkinThickness             100 non-null    int64  \n",
      " 4   Insulin                   100 non-null    int64  \n",
      " 5   BMI                       100 non-null    float64\n",
      " 6   DiabetesPedigreeFunction  100 non-null    float64\n",
      " 7   Age                       100 non-null    int64  \n",
      "dtypes: float64(2), int64(6)\n",
      "memory usage: 6.4 KB\n"
     ]
    }
   ],
   "source": [
    "test_data = pd.read_csv('./data/diabetes_test.csv')\n",
    "test_data.info()"
   ]
  },
  {
   "cell_type": "code",
   "execution_count": null,
   "id": "55ZpW69qO2Tw",
   "metadata": {
    "id": "55ZpW69qO2Tw"
   },
   "outputs": [
    {
     "data": {
      "text/html": [
       "<div>\n",
       "<style scoped>\n",
       "    .dataframe tbody tr th:only-of-type {\n",
       "        vertical-align: middle;\n",
       "    }\n",
       "\n",
       "    .dataframe tbody tr th {\n",
       "        vertical-align: top;\n",
       "    }\n",
       "\n",
       "    .dataframe thead th {\n",
       "        text-align: right;\n",
       "    }\n",
       "</style>\n",
       "<table border=\"1\" class=\"dataframe\">\n",
       "  <thead>\n",
       "    <tr style=\"text-align: right;\">\n",
       "      <th></th>\n",
       "      <th>Pregnancies</th>\n",
       "      <th>Glucose</th>\n",
       "      <th>BloodPressure</th>\n",
       "      <th>SkinThickness</th>\n",
       "      <th>Insulin</th>\n",
       "      <th>BMI</th>\n",
       "      <th>DiabetesPedigreeFunction</th>\n",
       "      <th>Age</th>\n",
       "    </tr>\n",
       "  </thead>\n",
       "  <tbody>\n",
       "    <tr>\n",
       "      <th>0</th>\n",
       "      <td>6</td>\n",
       "      <td>148</td>\n",
       "      <td>72</td>\n",
       "      <td>35</td>\n",
       "      <td>0</td>\n",
       "      <td>33.6</td>\n",
       "      <td>0.627</td>\n",
       "      <td>50</td>\n",
       "    </tr>\n",
       "    <tr>\n",
       "      <th>1</th>\n",
       "      <td>1</td>\n",
       "      <td>85</td>\n",
       "      <td>66</td>\n",
       "      <td>29</td>\n",
       "      <td>0</td>\n",
       "      <td>26.6</td>\n",
       "      <td>0.351</td>\n",
       "      <td>31</td>\n",
       "    </tr>\n",
       "    <tr>\n",
       "      <th>2</th>\n",
       "      <td>8</td>\n",
       "      <td>183</td>\n",
       "      <td>64</td>\n",
       "      <td>0</td>\n",
       "      <td>0</td>\n",
       "      <td>23.3</td>\n",
       "      <td>0.672</td>\n",
       "      <td>32</td>\n",
       "    </tr>\n",
       "    <tr>\n",
       "      <th>3</th>\n",
       "      <td>1</td>\n",
       "      <td>89</td>\n",
       "      <td>66</td>\n",
       "      <td>23</td>\n",
       "      <td>94</td>\n",
       "      <td>28.1</td>\n",
       "      <td>0.167</td>\n",
       "      <td>21</td>\n",
       "    </tr>\n",
       "    <tr>\n",
       "      <th>4</th>\n",
       "      <td>0</td>\n",
       "      <td>137</td>\n",
       "      <td>40</td>\n",
       "      <td>35</td>\n",
       "      <td>168</td>\n",
       "      <td>43.1</td>\n",
       "      <td>2.288</td>\n",
       "      <td>33</td>\n",
       "    </tr>\n",
       "  </tbody>\n",
       "</table>\n",
       "</div>"
      ],
      "text/plain": [
       "   Pregnancies  Glucose  BloodPressure  SkinThickness  Insulin   BMI  \\\n",
       "0            6      148             72             35        0  33.6   \n",
       "1            1       85             66             29        0  26.6   \n",
       "2            8      183             64              0        0  23.3   \n",
       "3            1       89             66             23       94  28.1   \n",
       "4            0      137             40             35      168  43.1   \n",
       "\n",
       "   DiabetesPedigreeFunction  Age  \n",
       "0                     0.627   50  \n",
       "1                     0.351   31  \n",
       "2                     0.672   32  \n",
       "3                     0.167   21  \n",
       "4                     2.288   33  "
      ]
     },
     "execution_count": 4,
     "metadata": {},
     "output_type": "execute_result"
    }
   ],
   "source": [
    "train_data_outcome = train_data['Outcome']\n",
    "train_data = train_data.drop(columns=['Outcome'])\n",
    "\n",
    "train_data.head()"
   ]
  },
  {
   "cell_type": "code",
   "execution_count": null,
   "id": "SdqTc_4yJhj8",
   "metadata": {
    "id": "SdqTc_4yJhj8"
   },
   "outputs": [
    {
     "data": {
      "text/html": [
       "<div>\n",
       "<style scoped>\n",
       "    .dataframe tbody tr th:only-of-type {\n",
       "        vertical-align: middle;\n",
       "    }\n",
       "\n",
       "    .dataframe tbody tr th {\n",
       "        vertical-align: top;\n",
       "    }\n",
       "\n",
       "    .dataframe thead th {\n",
       "        text-align: right;\n",
       "    }\n",
       "</style>\n",
       "<table border=\"1\" class=\"dataframe\">\n",
       "  <thead>\n",
       "    <tr style=\"text-align: right;\">\n",
       "      <th></th>\n",
       "      <th>Pregnancies</th>\n",
       "      <th>Glucose</th>\n",
       "      <th>BloodPressure</th>\n",
       "      <th>SkinThickness</th>\n",
       "      <th>Insulin</th>\n",
       "      <th>BMI</th>\n",
       "      <th>DiabetesPedigreeFunction</th>\n",
       "      <th>Age</th>\n",
       "    </tr>\n",
       "  </thead>\n",
       "  <tbody>\n",
       "    <tr>\n",
       "      <th>0</th>\n",
       "      <td>0.649833</td>\n",
       "      <td>0.854539</td>\n",
       "      <td>0.166518</td>\n",
       "      <td>0.900880</td>\n",
       "      <td>-0.687695</td>\n",
       "      <td>0.222281</td>\n",
       "      <td>0.438405</td>\n",
       "      <td>1.443781</td>\n",
       "    </tr>\n",
       "    <tr>\n",
       "      <th>1</th>\n",
       "      <td>-0.835754</td>\n",
       "      <td>-1.096441</td>\n",
       "      <td>-0.140758</td>\n",
       "      <td>0.526362</td>\n",
       "      <td>-0.687695</td>\n",
       "      <td>-0.672046</td>\n",
       "      <td>-0.370035</td>\n",
       "      <td>-0.178571</td>\n",
       "    </tr>\n",
       "    <tr>\n",
       "      <th>2</th>\n",
       "      <td>1.244068</td>\n",
       "      <td>1.938416</td>\n",
       "      <td>-0.243184</td>\n",
       "      <td>-1.283807</td>\n",
       "      <td>-0.687695</td>\n",
       "      <td>-1.093658</td>\n",
       "      <td>0.570216</td>\n",
       "      <td>-0.093184</td>\n",
       "    </tr>\n",
       "    <tr>\n",
       "      <th>3</th>\n",
       "      <td>-0.835754</td>\n",
       "      <td>-0.972569</td>\n",
       "      <td>-0.140758</td>\n",
       "      <td>0.151844</td>\n",
       "      <td>0.123855</td>\n",
       "      <td>-0.480405</td>\n",
       "      <td>-0.908995</td>\n",
       "      <td>-1.032441</td>\n",
       "    </tr>\n",
       "    <tr>\n",
       "      <th>4</th>\n",
       "      <td>-1.132872</td>\n",
       "      <td>0.513891</td>\n",
       "      <td>-1.472290</td>\n",
       "      <td>0.900880</td>\n",
       "      <td>0.762734</td>\n",
       "      <td>1.436011</td>\n",
       "      <td>5.303692</td>\n",
       "      <td>-0.007797</td>\n",
       "    </tr>\n",
       "  </tbody>\n",
       "</table>\n",
       "</div>"
      ],
      "text/plain": [
       "   Pregnancies   Glucose  BloodPressure  SkinThickness   Insulin       BMI  \\\n",
       "0     0.649833  0.854539       0.166518       0.900880 -0.687695  0.222281   \n",
       "1    -0.835754 -1.096441      -0.140758       0.526362 -0.687695 -0.672046   \n",
       "2     1.244068  1.938416      -0.243184      -1.283807 -0.687695 -1.093658   \n",
       "3    -0.835754 -0.972569      -0.140758       0.151844  0.123855 -0.480405   \n",
       "4    -1.132872  0.513891      -1.472290       0.900880  0.762734  1.436011   \n",
       "\n",
       "   DiabetesPedigreeFunction       Age  \n",
       "0                  0.438405  1.443781  \n",
       "1                 -0.370035 -0.178571  \n",
       "2                  0.570216 -0.093184  \n",
       "3                 -0.908995 -1.032441  \n",
       "4                  5.303692 -0.007797  "
      ]
     },
     "execution_count": 5,
     "metadata": {},
     "output_type": "execute_result"
    }
   ],
   "source": [
    "for column in train_data.columns:\n",
    "  mean = train_data[column].mean()\n",
    "  std = train_data[column].std()\n",
    "  train_data[column]=(train_data[column]- mean)/std\n",
    "  test_data[column]=(test_data[column] - mean)/std\n",
    "    \n",
    "train_data.head()"
   ]
  },
  {
   "cell_type": "code",
   "execution_count": null,
   "id": "9rG3CgSzV1Oo",
   "metadata": {
    "id": "9rG3CgSzV1Oo"
   },
   "outputs": [
    {
     "name": "stdout",
     "output_type": "stream",
     "text": [
      "<class 'pandas.core.frame.DataFrame'>\n",
      "RangeIndex: 100 entries, 0 to 99\n",
      "Data columns (total 9 columns):\n",
      " #   Column                    Non-Null Count  Dtype  \n",
      "---  ------                    --------------  -----  \n",
      " 0   Pregnancies               100 non-null    float64\n",
      " 1   Glucose                   100 non-null    float64\n",
      " 2   BloodPressure             100 non-null    float64\n",
      " 3   SkinThickness             100 non-null    float64\n",
      " 4   Insulin                   100 non-null    float64\n",
      " 5   BMI                       100 non-null    float64\n",
      " 6   DiabetesPedigreeFunction  100 non-null    float64\n",
      " 7   Age                       100 non-null    float64\n",
      " 8   Bias                      100 non-null    int64  \n",
      "dtypes: float64(8), int64(1)\n",
      "memory usage: 7.2 KB\n"
     ]
    }
   ],
   "source": [
    "train_bias =  1\n",
    "train_data['Bias'] =  train_bias\n",
    "\n",
    "test_bias = 1\n",
    "test_data['Bias'] = test_bias\n",
    "\n",
    "test_data.info()"
   ]
  },
  {
   "cell_type": "code",
   "execution_count": null,
   "id": "Mv51e2pFQIgZ",
   "metadata": {
    "id": "Mv51e2pFQIgZ"
   },
   "outputs": [],
   "source": [
    "from sklearn.model_selection import train_test_split\n",
    "\n",
    "X_train, X_validation, y_train, y_validation = train_test_split(train_data, train_data_outcome, test_size=0.2) \n",
    "\n",
    "X_train = np.transpose(X_train)\n",
    "X_validation =  np.transpose(X_validation)\n",
    "y_train =  np.transpose(y_train)\n",
    "y_validation =  np.transpose(y_validation)\n",
    "test_data_numpy =  np.transpose(test_data)"
   ]
  },
  {
   "cell_type": "markdown",
   "id": "nVUEonOBRDYO",
   "metadata": {
    "id": "nVUEonOBRDYO"
   },
   "source": [
    "   <p dir=rtl style=\"direction: rtl; text-align: justify; line-height:200%; font-family:vazir; font-size:medium\">\n",
    "برای اطمینان از درستی تنظیمات ورودی و خروجی مدل، با اجرای سلول بعد باید به خروجی زیر برسید.\n",
    "     </p>\n",
    "\n",
    "```\n",
    "X_train.shape:(9, 534), y_train.shape:(534,)\n",
    "X_validation.shape:(9, 134), y_validation.shape:(134,)\n",
    "test_data_numpy.shape:(9, 100)\n",
    "```"
   ]
  },
  {
   "cell_type": "code",
   "execution_count": null,
   "id": "VeyFrPkYQyhI",
   "metadata": {
    "id": "VeyFrPkYQyhI"
   },
   "outputs": [
    {
     "name": "stdout",
     "output_type": "stream",
     "text": [
      "X_train.shape:(9, 534), y_train.shape:(534,)\n",
      "X_validation.shape:(9, 134), y_validation.shape:(134,)\n",
      "test_data_numpy.shape:(9, 100)\n"
     ]
    }
   ],
   "source": [
    "print(f'X_train.shape:{X_train.shape}, y_train.shape:{y_train.shape}')\n",
    "print(f'X_validation.shape:{X_validation.shape}, y_validation.shape:{y_validation.shape}')\n",
    "print(f'test_data_numpy.shape:{test_data_numpy.shape}')"
   ]
  },
  {
   "attachments": {},
   "cell_type": "markdown",
   "id": "1c7aa36f-14f1-4c5e-a719-df49aa765cd6",
   "metadata": {},
   "source": [
    "<h3 align=right style=\"line-height:200%;font-family:vazir;color:#0099cc\">\n",
    "<font face=\"vazir\" color=\"#0099cc\">\n",
    "   <code>__init__</code> تابع \n",
    "</font>\n",
    "</h3>\n",
    "<p dir=rtl style=\"direction: rtl; text-align: justify; line-height:200%; font-family:vazir; font-size:medium\">\n",
    "<font face=\"vazir\" size=3>\n",
    "در تابع <code>__init__(self)</code> وزن‌های اولیه لایه‌های پنهان و خروجی (<code>w1</code> و <code>w2</code>) را به‌صورت تصادفی با میانگین <code>0</code> و انحراف معیار <code>0.01</code> مقداردهی کنید. برای این کار می‌توان از تابع <code>np.random.randn</code> استفاده کرد. البته توجه داشته باشید تابع <code>np.random.randn</code> اعداد تصادفی با میانگین <code>0</code> و انحراف معیار <code>1</code> تولید می‌کند، بنابراین نیاز است مطابق خواسته‌ی مسئله این مقادیر را کمی تغییر دهید.\n",
    "</font>\n",
    "</p>"
   ]
  },
  {
   "attachments": {},
   "cell_type": "markdown",
   "id": "593020d6-794e-4c55-8e4a-a9206a53c710",
   "metadata": {},
   "source": [
    "<h3 align=right style=\"line-height:200%;font-family:vazir;color:#0099cc\">\n",
    "<font face=\"vazir\" color=\"#0099cc\">\n",
    "   <code>update_weights_for_one_epoch</code> تابع \n",
    "</font>\n",
    "</h3>\n",
    "\n",
    "<p dir=rtl style=\"direction: rtl; text-align: justify; line-height:200%; font-family:vazir; font-size:medium\">\n",
    "<font face=\"vazir\" size=3>\n",
    "در تابع <code>(update_weights_for_one_epoch(self, inputs, outputs, learning_rate</code> باید وزن‌های شبکه را برای یک <code>epoch</code> به‌روزرسانی کنید. توجه داشته باشید مقدار <code>learning_rate</code> همان نرخ یادگیری یا آلفا است . فرمول‌های مورد نیاز برای این بخش در زیر آورده شده است. در فصل بعد جزئیات نحوه‌ی محاسبه‌ی آن‌ها را شرح داده‌ایم.\n",
    "</font>\n",
    "</p>\n",
    "\n",
    "<p dir=rtl style=\"direction: rtl; text-align: justify; line-height:200%; font-family:vazir; font-size:medium\">\n",
    "<font face=\"vazir\" size=3>\n",
    "نحوه به‌روزرسانی <code>w2</code> به شرح زیر می‌باشد:\n",
    "</font>\n",
    "</p>\n",
    "\n",
    "<p dir=rtl style=\"direction: rtl; text-align: justify; line-height:200%; font-family:vazir; font-size:medium\">\n",
    "<font face=\"vazir\" size=3>\n",
    "<span style=\"color:orange\"><b>نکته:</b></span>\n",
    "دقت داشته باشید نماد $\\odot$ ضرب درآیه‌ای می‌باشد و نماد $\\bullet$ ضرب ماتریسی است.\n",
    "</font>\n",
    "</p>\n",
    "                                                                                     \n",
    "$$W^{[2]} = W^{[2]} + \\Delta W^{[2]}$$\n",
    "$$\\Delta W^{[2]} = - \\alpha \\frac{\\partial cost}{\\partial W^{[2]}}$$\n",
    "$$\\frac{\\partial cost}{\\partial W^{[2]}} = (\\frac{-2}{n}(Y_{true}-A^{[2]})\\odot A^{[2]}\\odot (1-A^{[2]}))\\bullet A^{[1]T}$$\n",
    "$$W^{[2]}=W^{[2]}+(\\frac{2 \\alpha}{n}(Y_{true}-A^{[2]})\\odot A^{[2]}\\odot (1-A^{[2]}))\\bullet A^{[1]T}$$\n"
   ]
  },
  {
   "attachments": {},
   "cell_type": "markdown",
   "id": "a7ba7798-3300-4a7b-9392-9786da9ffe56",
   "metadata": {},
   "source": [
    "<p dir=rtl style=\"direction: rtl; text-align: justify; line-height:200%; font-family:vazir; font-size:medium\">\n",
    "<font face=\"vazir\" size=3>\n",
    "نحوه به‌روزرسانی <code>w1</code> به شرح زیر می‌باشد:\n",
    "</font>\n",
    "</p>\n",
    "\n",
    "$$W^{[1]} = W^{[1]} + \\Delta W^{[1]}$$\n",
    "$$\\Delta W^{[1]} = - \\alpha \\frac{\\partial cost}{\\partial W^{[1]}}$$\n",
    "\n",
    "$$\\frac{\\partial cost}{\\partial W^{[1]}} = (((\\frac{-2}{n}(Y_{true}-A^{[2]})\\odot A^{[2]}\\odot (1-A^{[2]}))^T\\bullet W^{[2]})^T\\odot \\frac{\\partial A^{[1]}}{\\partial Z^{[1]}}) \\bullet X^T$$\n",
    "\n",
    "$$W^{[1]}=W^{[1]}+(((\\frac{2 \\alpha}{n}(Y_{true}-A^{[2]})\\odot A^{[2]}\\odot (1-A^{[2]}))^T\\bullet W^{[2]})^T\\odot \\frac{\\partial A^{[1]}}{\\partial Z^{[1]}}) \\bullet X^T$$\n",
    "\n",
    "\n",
    "<p dir=rtl style=\"direction: rtl; text-align: justify; line-height:200%; font-family:vazir; font-size:medium\">\n",
    "<font face=\"vazir\" size=3>\n",
    "    برای به‌دست‌آوردن مقدار $\\frac{\\partial A^{[1]}}{\\partial Z^{[1]}}$ که همان مشتق تابع یکسوساز می‌باشد از قطعه کد زیر استفاده کنید که خروجی آن یک ماتریس با اندازه‌ای برابر با اندازه‌ی $Z^{[1]}$ و متشکل از <code>0</code> و <code>1</code> است، به‌طوری که متناظر با سلول‌هایی که مقدار $Z^{[1]}$ در آن بیشتر از صفر است، مقدار <code>1</code> و در غیر این‌صورت مقدار <code>0</code> دارد. البته به علت نحوه‌ی کد زدن مدل ورودی این تابع را <code>A_1</code> می‌دهیم اما در خروجی تابع تفاوتی ندارد (چرا؟).\n",
    "</font>\n",
    "</p>\n",
    "\n",
    "<center>\n",
    "\n",
    "```python\n",
    "relu_gradient = np.where(A_1 > 0, 1, 0)\n",
    "```\n",
    "\n",
    "</center>\n",
    "\n",
    "<p dir=rtl style=\"direction: rtl; text-align: justify; line-height:200%; font-family:vazir; font-size:medium\">\n",
    "<font face=\"vazir\" size=3>\n",
    " توجه داشته باشید بخشی از $\\Delta W^{[1]}$ در $\\Delta W^{[2]}$ محاسبه شده است که می‌توان با نگه‌داری آن از محاسبه‌ی اضافی جلوگیری کنیم.\n",
    "\n",
    "</font>\n",
    "</p>"
   ]
  },
  {
   "cell_type": "code",
   "execution_count": null,
   "id": "c7961eff",
   "metadata": {
    "id": "c7961eff"
   },
   "outputs": [],
   "source": [
    "import numpy as np\n",
    "\n",
    "class Model:\n",
    "    def __init__(self):\n",
    "        self.w1 = np.random.normal(loc=0, scale=0.01, size=(1000, 9))\n",
    "        self.w2 = np.random.normal(loc=0, scale=0.01, size=(1, 1000))\n",
    "\n",
    "    def predict(self, inputs):\n",
    "        Z_1 =(self.w1)@inputs\n",
    "        A_1 = np.maximum(0, Z_1)  \n",
    "        Z_2 =(self.w2)@A_1\n",
    "        A_2 = 1 / (1 + np.exp(-Z_2))\n",
    "        return A_1, A_2\n",
    "\n",
    "    def update_weights_for_one_epoch(self, inputs, outputs, learning_rate):\n",
    "        x, y_true = inputs, outputs\n",
    "        A_1, A_2 = self.predict(inputs)\n",
    "        n =x.shape[0]\n",
    "        relu_gradient = np.where(A_1 > 0, 1, 0)\n",
    "        shared_coefficient = (-2*learning_rate/n) * (y_true - A_2) * A_2 * (1 - A_2)\n",
    "        self.w1 = self.w1 - (((shared_coefficient.T).dot(self.w2)).T * relu_gradient).dot(x.T)\n",
    "        self.w2 = self.w2 - (shared_coefficient.dot(A_1.T))\n",
    "    def fit(self, inputs, outputs, learning_rate, epochs=64):\n",
    "        for _ in range(epochs):\n",
    "            self.update_weights_for_one_epoch(inputs, outputs, learning_rate)\n",
    "      "
   ]
  },
  {
   "cell_type": "code",
   "execution_count": null,
   "id": "9_hBcd4eCJs2",
   "metadata": {
    "id": "9_hBcd4eCJs2"
   },
   "outputs": [],
   "source": [
    "def evaluation(model, inputs, outputs):\n",
    "  _, A_2 = model.predict(inputs)\n",
    "  prediction = (A_2 > 0.5)\n",
    "  return np.mean(prediction == outputs) * 100"
   ]
  },
  {
   "cell_type": "code",
   "execution_count": null,
   "id": "0f7db3fb-9b00-4394-8791-67eefbf798b8",
   "metadata": {},
   "outputs": [
    {
     "name": "stdout",
     "output_type": "stream",
     "text": [
      "you model accuracy on given set: 76.12%\n"
     ]
    }
   ],
   "source": [
    "model = Model()\n",
    "model.fit(X_train.to_numpy(),y_train.to_numpy() , learning_rate = 0.01, epochs = 100) \n",
    "\n",
    "# Model evaluation \n",
    "print(f\"you model accuracy on given set: {round(evaluation(model, X_validation,y_validation), 2)}%\") "
   ]
  },
  {
   "cell_type": "code",
   "execution_count": null,
   "id": "9I8ip5avBW1a",
   "metadata": {
    "id": "9I8ip5avBW1a"
   },
   "outputs": [
    {
     "data": {
      "text/plain": [
       "array([[False, False, False, False,  True, False,  True, False,  True,\n",
       "         True,  True, False, False,  True, False,  True,  True, False,\n",
       "        False,  True, False,  True,  True,  True,  True, False,  True,\n",
       "        False, False,  True, False,  True, False,  True,  True,  True,\n",
       "        False, False, False,  True,  True, False, False,  True, False,\n",
       "         True,  True, False, False,  True,  True,  True,  True, False,\n",
       "         True, False,  True,  True, False,  True, False,  True,  True,\n",
       "        False,  True, False,  True,  True, False,  True, False,  True,\n",
       "        False,  True,  True,  True, False, False,  True,  True, False,\n",
       "        False, False,  True,  True,  True,  True,  True,  True,  True,\n",
       "         True,  True, False,  True,  True, False,  True, False,  True,\n",
       "         True]])"
      ]
     },
     "execution_count": 18,
     "metadata": {},
     "output_type": "execute_result"
    }
   ],
   "source": [
    "model = Model()\n",
    "_ , output= model.predict(test_data_numpy.to_numpy())\n",
    "prediction = (output > 0.5)\n",
    "prediction"
   ]
  },
  {
   "cell_type": "code",
   "execution_count": null,
   "id": "233b9ad0",
   "metadata": {
    "id": "233b9ad0"
   },
   "outputs": [],
   "source": [
    "from inspect import getsource\n",
    "\n",
    "inspect_model = Model()\n",
    "\n",
    "with open(\"model.py\", \"w\") as f:\n",
    "    f.write('import numpy as np\\n')\n",
    "    f.write('class Model:\\n')\n",
    "    f.write(getsource(inspect_model.__init__)+'\\n')\n",
    "    f.write(getsource(inspect_model.predict)+'\\n')\n",
    "    f.write(getsource(inspect_model.update_weights_for_one_epoch)+\"\\n\")\n",
    "    f.write(getsource(inspect_model.fit)+'\\n')\n",
    "f.close()\n",
    "\n",
    "test_data.to_csv('processed_test_data.csv', index=False)\n",
    "np.save(\"prediction.npy\", prediction)"
   ]
  },
  {
   "cell_type": "code",
   "execution_count": null,
   "id": "2c3bcd76",
   "metadata": {
    "id": "2c3bcd76"
   },
   "outputs": [],
   "source": [
    "import zipfile\n",
    "import joblib\n",
    "import os\n",
    "\n",
    "if not os.path.exists(os.path.join(os.getcwd(), 'play_with_shallow.ipynb')):\n",
    "    %notebook -e play_with_shallow.ipynb\n",
    "    \n",
    "def compress(file_names):\n",
    "    print(\"File Paths:\")\n",
    "    print(file_names)\n",
    "    compression = zipfile.ZIP_DEFLATED\n",
    "    with zipfile.ZipFile(\"result.zip\", mode=\"w\") as zf:\n",
    "        for file_name in file_names:\n",
    "            zf.write('./' + file_name, file_name, compress_type=compression)\n",
    "\n",
    "file_names = ['processed_test_data.csv', 'model.py', 'prediction.npy', 'play_with_shallow.ipynb']\n",
    "compress(file_names)"
   ]
  }
 ],
 "metadata": {
  "colab": {
   "provenance": []
  },
  "kernelspec": {
   "display_name": "Python 3 (ipykernel)",
   "language": "python",
   "name": "python3"
  },
  "language_info": {
   "codemirror_mode": {
    "name": "ipython",
    "version": 3
   },
   "file_extension": ".py",
   "mimetype": "text/x-python",
   "name": "python",
   "nbconvert_exporter": "python",
   "pygments_lexer": "ipython3",
   "version": "3.9.19"
  },
  "vscode": {
   "interpreter": {
    "hash": "ad2bdc8ecc057115af97d19610ffacc2b4e99fae6737bb82f5d7fb13d2f2c186"
   }
  }
 },
 "nbformat": 4,
 "nbformat_minor": 5
}
